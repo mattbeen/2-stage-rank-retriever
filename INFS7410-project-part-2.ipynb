{
 "cells": [
  {
   "cell_type": "markdown",
   "id": "4d4ae85d",
   "metadata": {
    "pycharm": {
     "name": "#%% md\n"
    }
   },
   "source": [
    "# INFS7410 Project - Part 2\n",
    "\n",
    "_version 1.0_\n",
    "\n",
    "### Preamble\n",
    "\n",
    "The due date for this assignment is **21 October 2022 16:00 Eastern Australia Standard Time**.\n",
    "\n",
    "This part of the project is worth 20% of the overall mark for INFS7410 (part 1 + part 2 = 40%). A detailed marking sheet for this assignment is provided alongside this notebook. The project is to be completed individually. \n",
    "\n",
    "We recommend that you make an early start on this assignment and proceed by steps. There are several activities you may have already tackled, including setting up the pipeline, manipulating the queries, implement some retrieval functions, and performing evaluation and analysis. Most of the assignment relies on knowledge and code you should have already have experienced in the computer practicals; however, there are some hidden challenges here and there that you may require some time to solve.\n",
    "\n",
    "### Aim\n",
    "\n",
    "Project aim: The aim of this project is for you to implement several neural information retrieval methods, evaluate them and compare them in the context of a multi-stage ranking pipeline.\n",
    "\n",
    "The speficic objectives of Part 2 is to:\n",
    "\n",
    "* Setup your infrastructure to index the collection and evaluate queries.\n",
    "* Implement neural information retrieval models (only inference).\n",
    "* Implement multi-stage ranking pipelines, i.e., BM25 + neural rankers.\n",
    "\n",
    "### The Information Retrieval Task: Web Passage Ranking\n",
    "\n",
    "As in part 1 of the project, in part 2 we will consider the problem of open-domain passage ranking in answer to web queries. In this context, users pose queries to the search engine and expect answers in the form of a ranked list of passages (maximum 1000 passages to be retrieved). \n",
    "\n",
    "The provided queries are actual queries submitted to the Microsoft Bing search engine. There are approximately 8.8 million passages in the collection, and the goal is to rank them based on their relevance to the queries.\n",
    "\n",
    "\n",
    "### What we provide you with:\n",
    "\n",
    "#### Files from practical\n",
    "\n",
    "* A collection of 8.8 million text passages extracted from web pages (`collection.tsv`— provided in Week 1).\n",
    "* A query file that contains 43 queries for you to perform retrieval experiments (`queries.tsv`— provided in Week 2).\n",
    "* A qrel file containing relevance judgements to tune your methods (`qrels.txt`— provided in Week 2).\n",
    "* Pytorch model files for ANCE.\n",
    "\n",
    "#### Extra files for this project\n",
    "\n",
    "* A leaderboard system for you to evaluate how well your system performs.\n",
    "* A test query file that contains 54 queries for you to generate run files to submit to the leaderboard (`test_queries.tsv`).\n",
    "* This jupyter notebook, which you will include inside it your implementation and report.\n",
    "* An hdf5 file that contains TILDEv2 pre-computed terms weights for the collection. Download from this [link](https://drive.google.com/file/d/199IO4E2ThiyLkMWokfr3Y9JY3DWSoFLt/view?usp=sharing)\n",
    "\n",
    "Put this notebook and provided files under the same directory.\n",
    "\n",
    "#### What you need to produce\n",
    "\n",
    "You need to produce:\n",
    "\n",
    "* Correct implementations of the methods required by this project specifications.\n",
    "* An explanation of the retrieval methods used, including the formulas that represent the models you implemented and code that implements that formula, an explanation of the evaluation settings followed, and a discussion of the findings. Please refer to the marking sheet to understand how each of these requirements are graded.\n",
    "\n",
    "You are required to produce both of these within this jupyter notebook.\n",
    "\n",
    "#### Required methods to implement\n",
    "\n",
    "In Part 2 of the project, you are required to implement the following retrieval methods. All implementations should be based on your code (except for BM25, where you can use the Pyserini built-in SimpleSearcher).\n",
    "\n",
    "1. Dense Retriever (ANCE): Use ANCE to re-rank BM25 top-k documents. See the practical in Week 10 for background information.\n",
    "2. TILDEv2: Use TILDEv2 to re-rank BM25 top-k documents. See the practical in Week 10 for background information.\n",
    "3. Three-stage ranking pipeline: Use TILDEv2 to re-rank BM25 top-k documents, then use monoBERT to re-rank TILDEv2 top-k documents. See the practical in Week 9 and Week 10 for background information.\n",
    "\n",
    "You can choose an arbitrary number for the choice of cut-off k, but you need to be aware that these neural models are slow to perform inference on the CPU, where a large k might be infeasible. You are free to use Colab, but make sure you copy your code in this notebook.\n",
    "\n",
    "For TILDEv2, unlike what you did in practical, we offer you the pre-computed term weights for the whole collection (for more details, see the `Initial packages and functions` cell). This means you can have a fast re-ranking speed for TILDEv2. Use this advantage to trade-off effectiveness and efficiency for your three-stage ranking pipeline implementation.\n",
    "\n",
    "You should have already attempted many of these implementations above as part of the computer pracs exercises.\n",
    "\n",
    "#### Required evaluation to perform\n",
    "\n",
    "In Part 2 of the project, you are required to perform the following evaluation:\n",
    "\n",
    "1. For all methods, report effectiveness using `queries.tsv` and `qrels.txt` and submit your runs on the `test_queries.tsv` using the parameter values you selected from the `queries.tsv` to the leaderboard system. \n",
    "2. Report every method's effectiveness and efficiency (average query latency) on the `queries.tsv` and the corresponding cut-off k into a table. Perform statistical significance analysis across the results of the methods and report them in the tables.\n",
    "3. Produce a gain-loss plot that compares the most and least effective of the three required methods above in terms of nDCG@10 on `queries.csv`.\n",
    "4. Comment on trends and differences observed when comparing your findings. Is there a method that consistently outperforms the others on the `queries.tsv` and the `test_queries.tsv`?\n",
    "\n",
    "Regarding evaluation measures, evaluate the retrieval methods with respect to nDCG at 10 (`ndcg_cut_10`). You should use this measure as the target measure for tuning. Also compute reciprocal rank at 1000 (`recip_rank`),  MAP (`map`) and Recall at 1000 (`recall_1000`).\n",
    "\n",
    "For all statistical significance analyses, use a paired t-test and distinguish between p<0.05 and p<0.01.\n",
    "\n",
    "#### How to submit\n",
    "\n",
    "You will have to submit one file:\n",
    "\n",
    "1. A zip file containing this notebook (.ipynb) and this notebook **as a PDF document**. The code should be able to be executed by us. Remember to include all your discussion and analysis also in this notebook and not as a separate file.\n",
    "\n",
    "It needs to be submitted via the relevant Turnitin link in the INFS7410 BlackBoard site by **28 October 2021, 16:00 Eastern Australia Standard Time**, unless you have been given an extension (according to UQ policy), *before* the due date of the assignment."
   ]
  },
  {
   "cell_type": "markdown",
   "id": "7866b31a",
   "metadata": {
    "pycharm": {
     "name": "#%% md\n"
    }
   },
   "source": [
    "## Initial packages and functions\n",
    "----\n",
    "Unlike prac week 10 which we compute contextualized term weights with TILDEv2 in an \"on-the-fly\" manner. In this project, we provide an hdf5 file that contains pre-computed term weights for all the passages in the collection. \n",
    "\n",
    "Frist, pip install the h5py library:"
   ]
  },
  {
   "cell_type": "code",
   "execution_count": 1,
   "id": "cb2f55c5",
   "metadata": {
    "pycharm": {
     "name": "#%%\n"
    }
   },
   "outputs": [
    {
     "name": "stdout",
     "output_type": "stream",
     "text": [
      "Collecting h5py\n",
      "  Downloading h5py-3.7.0-cp37-cp37m-macosx_10_9_x86_64.whl (3.1 MB)\n",
      "\u001b[2K     \u001b[90m━━━━━━━━━━━━━━━━━━━━━━━━━━━━━━━━━━━━━━━━\u001b[0m \u001b[32m3.1/3.1 MB\u001b[0m \u001b[31m9.8 MB/s\u001b[0m eta \u001b[36m0:00:00\u001b[0mta \u001b[36m0:00:01\u001b[0m\n",
      "\u001b[?25hRequirement already satisfied: numpy>=1.14.5 in /opt/anaconda3/envs/infs7410/lib/python3.7/site-packages (from h5py) (1.21.6)\n",
      "Installing collected packages: h5py\n",
      "Successfully installed h5py-3.7.0\n"
     ]
    }
   ],
   "source": [
    "!pip install h5py"
   ]
  },
  {
   "cell_type": "markdown",
   "id": "a44c00b7",
   "metadata": {
    "pycharm": {
     "name": "#%% md\n"
    }
   },
   "source": [
    "The following cell gives you an example of how to use the file to access token weights and their corresponding token ids given a document id."
   ]
  },
  {
   "cell_type": "code",
   "execution_count": 11,
   "id": "8aae360f",
   "metadata": {
    "pycharm": {
     "name": "#%%\n"
    },
    "scrolled": true
   },
   "outputs": [
    {
     "name": "stdout",
     "output_type": "stream",
     "text": [
      "manhattan: 9.7734375\n",
      "project: 6.32421875\n",
      "atomic: 9.3125\n",
      "bomb: 7.69921875\n",
      "helped: 5.2890625\n",
      "bring: 2.90234375\n",
      "end: 3.68359375\n",
      "world: 3.294921875\n",
      "war: 4.55078125\n",
      "ii: 3.6015625\n",
      "legacy: 5.71875\n",
      "peaceful: 7.265625\n",
      "uses: 4.515625\n",
      "atomic: 8.625\n",
      "energy: 6.45703125\n",
      "continues: 3.02734375\n",
      "impact: 4.8515625\n",
      "history: 2.693359375\n",
      "science: 2.69140625\n",
      "effects: 4.15625\n",
      "purpose: 3.408203125\n",
      "effect: 3.537109375\n",
      "quiz: 3.48828125\n",
      "work: 2.486328125\n",
      "use: 2.951171875\n",
      "nuclear: 5.4296875\n",
      "created: 2.849609375\n",
      "used: 3.169921875\n",
      "power: 2.072265625\n",
      "help: 2.4921875\n",
      "us: 1.5283203125\n",
      "weapons: 2.478515625\n",
      "take: 0.5615234375\n"
     ]
    }
   ],
   "source": [
    "import h5py\n",
    "from transformers import BertTokenizer\n",
    "f = h5py.File(\"tildev2_weights.hdf5\", 'r')\n",
    "weights_file = f['documents'][:]  # load the hdf5 file to the memory.\n",
    "\n",
    "docid = 1\n",
    "token_weights, token_ids = weights_file[docid]\n",
    "\n",
    "tokenizer = BertTokenizer.from_pretrained('bert-base-uncased')\n",
    "for token_id, weight in zip(token_ids.tolist(), token_weights):\n",
    "    print(f\"{tokenizer.decode([token_id])}: {weight}\")"
   ]
  },
  {
   "cell_type": "markdown",
   "id": "fa5fa67e",
   "metadata": {
    "pycharm": {
     "name": "#%% md\n"
    }
   },
   "source": [
    "Note, these token_ids include stopwords' ids, remember to remove stopwords' ids for query tokens.\n",
    "\n",
    "----------"
   ]
  },
  {
   "cell_type": "code",
   "execution_count": 115,
   "id": "7acc8bdb",
   "metadata": {
    "pycharm": {
     "name": "#%%\n"
    }
   },
   "outputs": [],
   "source": [
    "# Import all your python libraries and put setup code here.\n",
    "from pyserini.search import SimpleSearcher\n",
    "from pyserini.analysis import Analyzer, get_lucene_analyzer\n",
    "from datetime import datetime\n",
    "from tqdm import tqdm\n",
    "import pandas as pd\n",
    "import pytrec_eval\n",
    "import numpy as np\n",
    "from modeling import TILDEv2\n",
    "from transformers import AutoTokenizer\n",
    "import torch\n",
    "from transformers import AutoTokenizer, AutoModelForSequenceClassification\n",
    "import pytrec_eval\n",
    "import scipy.stats\n",
    "import matplotlib.pyplot as plt\n",
    "import numpy as np\n",
    "\n",
    "\n",
    "# ANCE\n",
    "from modeling import AnceModel\n",
    "from transformers import AutoTokenizer\n",
    "device = 'cpu'\n",
    "ance_model = AnceModel.from_pretrained('ANCE_Model').eval()\n",
    "ance_model.to(device)\n",
    "ance_tokenizer = AutoTokenizer.from_pretrained('ANCE_Model')\n",
    "\n",
    "def ance_encode(text, device='cpu'):\n",
    "    # get query inputs\n",
    "    inputs = ance_tokenizer(\n",
    "            [text],\n",
    "            max_length=64,\n",
    "            padding='longest',\n",
    "            truncation=True,\n",
    "            add_special_tokens=True,\n",
    "            return_tensors='pt'\n",
    "        )\n",
    "    # pass query inputs to device and to model\n",
    "    # use 'cuda:0' if you are using GPU\n",
    "    inputs.to(device)\n",
    "    # compute query embeddings\n",
    "    embeddings = ance_model(inputs[\"input_ids\"]).detach().cpu().numpy().flatten()\n",
    "    return embeddings\n",
    "\n",
    "# Tildev2\n",
    "model = TILDEv2.from_pretrained(\"tildev2-noexp\").eval()\n",
    "tokenizer = AutoTokenizer.from_pretrained(\"tildev2-noexp\")\n",
    "f = h5py.File(\"tildev2_weights.hdf5\", 'r')\n",
    "weights_file = f['documents'][:]  # load the hdf5 file to the memory.\n",
    "stop_ids = model.get_stop_ids(tokenizer)\n",
    "\n",
    "def tildev2_scoreing(query, document,weights_file,docid):\n",
    "    # get document term weights\n",
    "    inputs = tokenizer(document, return_tensors='pt')\n",
    "    token_weights, token_ids = weights_file[docid]\n",
    "    token_ids = np.array(token_ids)\n",
    "    token_weights = np.array(token_weights)\n",
    "    \n",
    "    # get query token ids\n",
    "    query_ids = tokenizer(query, add_special_tokens=False)[\"input_ids\"]\n",
    "    query_ids = [tok_id for tok_id in query_ids if tok_id not in stop_ids]  # remove stopwords for query\n",
    "    \n",
    "    # use query token ids to match term weights in the document\n",
    "    token_idx = [np.where(token_ids == tok_id) for tok_id in query_ids]\n",
    "    score = 0\n",
    "    for idx in token_idx:\n",
    "        if len(idx[0]) != 0:\n",
    "            score += np.max(token_weights[idx])  # if a query term appears multiple times in the passage, use the max socre\n",
    "    return score\n",
    "\n",
    "# monoBERT\n",
    "DEVICE = torch.device('cuda:0' if torch.cuda.is_available() else 'cpu')\n",
    "\n",
    "monoBERT = AutoModelForSequenceClassification.from_pretrained('castorini/monobert-large-msmarco', cache_dir=\"./cache\")\n",
    "tokenizer = AutoTokenizer.from_pretrained('castorini/monobert-large-msmarco', cache_dir=\"./cache\")\n",
    "\n",
    "def monoBERT_score(query: str, passage: str):\n",
    "    ret = tokenizer.encode_plus(query,\n",
    "                                passage,\n",
    "                                max_length=512,\n",
    "                                truncation=True,\n",
    "                                return_token_type_ids=True,\n",
    "                                return_tensors='pt')\n",
    "    input_ids = ret['input_ids'].to(DEVICE)\n",
    "    tt_ids = ret['token_type_ids'].to(DEVICE)\n",
    "    with torch.no_grad():\n",
    "        output, = monoBERT(input_ids, token_type_ids=tt_ids, return_dict=False)\n",
    "        score = torch.nn.functional.softmax(output, 1)[0, -1].cpu().item()\n",
    "\n",
    "    return score\n",
    "\n",
    "# Evaluate Performance\n",
    "def print_results(run, qrel_file='qrel.txt', measures=[\"map\", \"ndcg_cut_10\", \"recall_1000\",\"recip_rank\"]):\n",
    "    # Open the qrels file.\n",
    "    with open(qrel_file, \"r\") as f:\n",
    "        msmarco_qrels = pytrec_eval.parse_qrel(f)\n",
    "\n",
    "    evaluator = pytrec_eval.RelevanceEvaluator(query_relevance=msmarco_qrels, measures=measures)\n",
    "    results = evaluator.evaluate(run)\n",
    "    for measure in sorted(measures):\n",
    "        print('{:25s}{:8s}{:.4f}'.format(measure, 'all', pytrec_eval.compute_aggregated_measure(measure,\n",
    "                                  [query_measures[measure]for query_measures in results.values()])))  \n",
    "    return results"
   ]
  },
  {
   "cell_type": "markdown",
   "id": "6741aed2",
   "metadata": {
    "pycharm": {
     "name": "#%% md\n"
    }
   },
   "source": [
    "For the first method to implement, it is ANCE. The documents will first ranked by BM25 and then passed the ranking to ANCE to re-rank the documents. In this stage, the number of documents keep the same which means both method will rank the same number of documents.\n",
    "\n",
    "For this 2 stage ranking method, I have chosen to rank the top 10, 100, 500 and 1000 documents to observe whether the increase in documents size will affect the chance of retrieving related documents with this model."
   ]
  },
  {
   "cell_type": "code",
   "execution_count": 8,
   "id": "1a981316",
   "metadata": {
    "pycharm": {
     "name": "#%%\n"
    }
   },
   "outputs": [
    {
     "name": "stderr",
     "output_type": "stream",
     "text": [
      "100%|███████████████████████████████████████████| 43/43 [26:40<00:00, 37.21s/it]\n",
      "100%|██████████████████████████████████████████| 43/43 [00:00<00:00, 375.19it/s]\n",
      "100%|███████████████████████████████████| 4300/4300 [00:00<00:00, 612619.13it/s]\n"
     ]
    }
   ],
   "source": [
    "# Put your implementation of methods here.\n",
    "searcher = SimpleSearcher('indexes/lucene-index-msmarco-passage-noProcessing/')\n",
    "searcher.set_analyzer(get_lucene_analyzer(stemming=False, stopwords=True))\n",
    "\n",
    "queries = []\n",
    "with open(\"queries.tsv\", \"r\") as f:\n",
    "    for line in f.readlines():\n",
    "        parts = line.split(\"\\t\")\n",
    "        # parts[0] ~> topic id\n",
    "        # parts[1] ~> query\n",
    "        queries.append((parts[0], parts[1].strip()))\n",
    "        \n",
    "def search(run_file: str, k: int=10):\n",
    "    # Get bm25 ranking and Score with ANCE\n",
    "    bm25_rank_lst = []\n",
    "    for topic_id, query in tqdm(queries):\n",
    "        hits = searcher.search(query,k=k)\n",
    "        topic_lst = []\n",
    "        for i, hit in enumerate(hits):\n",
    "            record_lst = []\n",
    "            record_lst.append(topic_id)\n",
    "            record_lst.append(hit.docid)\n",
    "            record_lst.append(i+1)\n",
    "            query_embed = ance_encode(query)\n",
    "            document_embed = ance_encode(hits[i].raw)\n",
    "            score = np.dot(query_embed,document_embed)\n",
    "            record_lst.append(score)\n",
    "            topic_lst.append(record_lst)\n",
    "        bm25_rank_lst.append(topic_lst)\n",
    "    \n",
    "    # Re-rank by ANCE score\n",
    "    df_lst = []\n",
    "    for i in tqdm(bm25_rank_lst):\n",
    "        df = pd.DataFrame(i,columns=['topic_id','docid','bm25_rank','ance_score'])\n",
    "        df.sort_values(by = ['ance_score'],axis=0,ascending=False, inplace=True)\n",
    "        df.reset_index(drop=True,inplace=True)\n",
    "        df['ance_rank'] = df.index\n",
    "        df_lst.append(df)\n",
    "    \n",
    "    overall_df = pd.concat(df_lst)\n",
    "    overall_df = overall_df[['topic_id','docid','ance_rank','ance_score']]\n",
    "    \n",
    "    # Write the ANCE re-rank list to run\n",
    "    with open(run_file, \"w\") as f:\n",
    "        for topic_id,docid,ance_rank,ance_score in tqdm(overall_df.values):\n",
    "            # Write the results to our file.\n",
    "            f.write(f\"{topic_id} Q0 {docid} {ance_rank} {ance_score} infs7410_pj2\\n\")\n",
    "\n",
    "search(\"pj2_k100_ance.run\",k=100)"
   ]
  },
  {
   "cell_type": "code",
   "execution_count": 9,
   "id": "78828c65",
   "metadata": {},
   "outputs": [
    {
     "name": "stderr",
     "output_type": "stream",
     "text": [
      "100%|███████████████████████████████████████████| 43/43 [02:38<00:00,  3.69s/it]\n",
      "100%|██████████████████████████████████████████| 43/43 [00:00<00:00, 937.19it/s]\n",
      "100%|█████████████████████████████████████| 430/430 [00:00<00:00, 514565.11it/s]\n",
      "100%|████████████████████████████████████████| 43/43 [6:22:46<00:00, 534.10s/it]\n",
      "100%|██████████████████████████████████████████| 43/43 [00:00<00:00, 140.93it/s]\n",
      "100%|█████████████████████████████████| 43000/43000 [00:00<00:00, 627186.74it/s]\n"
     ]
    }
   ],
   "source": [
    "search(\"pj2_k10_ance.run\",k=10)\n",
    "search(\"pj2_k1000_ance.run\",k=1000)"
   ]
  },
  {
   "cell_type": "code",
   "execution_count": 10,
   "id": "85c43bdf",
   "metadata": {},
   "outputs": [
    {
     "name": "stderr",
     "output_type": "stream",
     "text": [
      "100%|████████████████████████████████████████| 43/43 [2:11:55<00:00, 184.08s/it]\n",
      "100%|██████████████████████████████████████████| 43/43 [00:00<00:00, 308.07it/s]\n",
      "100%|█████████████████████████████████| 21500/21500 [00:00<00:00, 650031.26it/s]\n"
     ]
    }
   ],
   "source": [
    "search(\"pj2_k500_ance.run\",k=500)"
   ]
  },
  {
   "cell_type": "markdown",
   "id": "5a78cc8d",
   "metadata": {},
   "source": [
    "For the second method, I have chosen to use BM25 to rank the related documents first. Then, use TILDEv2 to re-rank the documents retrieved and ranked by BM25. Same as the last method, we keep the number of documents to be ranked the same for 2 stages.\n",
    "\n",
    "For this 2 stage ranking method, I have chosen to rank the top 10, 100, 500 and 1000 documents to observe whether the increase in documents size will affect the chance of retrieving related documents with this model."
   ]
  },
  {
   "cell_type": "code",
   "execution_count": 85,
   "id": "2dd8d165",
   "metadata": {},
   "outputs": [
    {
     "name": "stderr",
     "output_type": "stream",
     "text": [
      "100%|███████████████████████████████████████████| 43/43 [00:05<00:00,  8.19it/s]\n",
      "100%|█████████████████████████████████████████| 43/43 [00:00<00:00, 1022.37it/s]\n",
      "100%|█████████████████████████████████████| 430/430 [00:00<00:00, 215529.48it/s]\n"
     ]
    }
   ],
   "source": [
    "# BM25 + tildev2\n",
    "searcher = SimpleSearcher('indexes/lucene-index-msmarco-passage-noProcessing/')\n",
    "searcher.set_analyzer(get_lucene_analyzer(stemming=False, stopwords=True))\n",
    "\n",
    "queries = []\n",
    "with open(\"queries.tsv\", \"r\") as f:\n",
    "    for line in f.readlines():\n",
    "        parts = line.split(\"\\t\")\n",
    "        # parts[0] ~> topic id\n",
    "        # parts[1] ~> query\n",
    "        queries.append((parts[0], parts[1].strip()))\n",
    "        \n",
    "def search(weights_file,run_file: str, k: int=10):\n",
    "    # Get bm25 ranking and Score with Tildev2\n",
    "    bm25_rank_lst = []\n",
    "    for topic_id, query in tqdm(queries):\n",
    "        hits = searcher.search(query,k=k)\n",
    "        topic_lst = []\n",
    "        for i, hit in enumerate(hits):\n",
    "            record_lst = []\n",
    "            record_lst.append(topic_id)\n",
    "            record_lst.append(hit.docid)\n",
    "            record_lst.append(i+1)\n",
    "            score = tildev2_scoreing(query,hits[i].raw,weights_file,int(hit.docid))\n",
    "            record_lst.append(score)\n",
    "            topic_lst.append(record_lst)\n",
    "        bm25_rank_lst.append(topic_lst)\n",
    "    \n",
    "    # Re-rank by Tildev score\n",
    "    df_lst = []\n",
    "    for i in tqdm(bm25_rank_lst):\n",
    "        df = pd.DataFrame(i,columns=['topic_id','docid','bm25_rank','tildev_score'])\n",
    "        df.sort_values(by = ['tildev_score'],axis=0,ascending=False, inplace=True)\n",
    "        df.reset_index(drop=True,inplace=True)\n",
    "        df['tildev_rank'] = df.index\n",
    "        df_lst.append(df)\n",
    "    \n",
    "    overall_df = pd.concat(df_lst)\n",
    "    overall_df = overall_df[['topic_id','docid','tildev_rank','tildev_score']]\n",
    "    \n",
    "    # Write the Tildev re-rank list to run\n",
    "    with open(run_file, \"w\") as f:\n",
    "        for topic_id,docid,tildev_rank,tildev_score in tqdm(overall_df.values):\n",
    "            # Write the results to our file.\n",
    "            f.write(f\"{topic_id} Q0 {docid} {tildev_rank} {tildev_score} infs7410_pj2\\n\")\n",
    "\n",
    "search(weights_file,\"pj2_k10_tildev.run\",k=10)"
   ]
  },
  {
   "cell_type": "code",
   "execution_count": 86,
   "id": "efacff72",
   "metadata": {},
   "outputs": [
    {
     "name": "stderr",
     "output_type": "stream",
     "text": [
      "100%|███████████████████████████████████████████| 43/43 [00:08<00:00,  5.05it/s]\n",
      "100%|███████████████████████████████████████████| 43/43 [00:01<00:00, 37.19it/s]\n",
      "100%|███████████████████████████████████| 4300/4300 [00:00<00:00, 668923.20it/s]\n"
     ]
    }
   ],
   "source": [
    "search(weights_file,\"pj2_k100_tildev.run\",k=100)"
   ]
  },
  {
   "cell_type": "code",
   "execution_count": 26,
   "id": "88368f4a",
   "metadata": {},
   "outputs": [
    {
     "name": "stderr",
     "output_type": "stream",
     "text": [
      "100%|███████████████████████████████████████████| 43/43 [00:28<00:00,  1.52it/s]\n",
      "100%|██████████████████████████████████████████| 43/43 [00:00<00:00, 291.21it/s]\n",
      "100%|█████████████████████████████████| 21500/21500 [00:00<00:00, 712882.80it/s]\n"
     ]
    }
   ],
   "source": [
    "search(weights_file,\"pj2_k500_tildev.run\",k=500)"
   ]
  },
  {
   "cell_type": "code",
   "execution_count": 27,
   "id": "8d77238a",
   "metadata": {},
   "outputs": [
    {
     "name": "stderr",
     "output_type": "stream",
     "text": [
      "100%|███████████████████████████████████████████| 43/43 [00:45<00:00,  1.07s/it]\n",
      "100%|██████████████████████████████████████████| 43/43 [00:00<00:00, 279.92it/s]\n",
      "100%|█████████████████████████████████| 43000/43000 [00:00<00:00, 692509.41it/s]\n"
     ]
    }
   ],
   "source": [
    "search(weights_file,\"pj2_k1000_tildev.run\",k=1000)"
   ]
  },
  {
   "cell_type": "markdown",
   "id": "b6e2012d",
   "metadata": {},
   "source": [
    "For the last method, I am implementing a three stage retrieve model. First, I will first rank the documents with BM25. Then, the ranked documents will be re-ranked with TILDEv2. The top X documents ranked by TILDEv2 will then re-rank by monoBERT. The number of documents in the first two stages is the same but will reduce significantly in the third stage.\n",
    "\n",
    "In this method, I have chosen the following combination.\n",
    "- 1000 documents for BM25 & TILDEv2 + 10 documents for monoBERT\n",
    "- 1000 documents for BM25 & TILDEv2 + 100 documents for monoBERT\n",
    "- 1000 documents for BM25 & TILDEv2 + 500 documents for monoBERT"
   ]
  },
  {
   "cell_type": "code",
   "execution_count": 96,
   "id": "8171e943",
   "metadata": {},
   "outputs": [],
   "source": [
    "# BM25 + tildev2 + monoBERT\n",
    "searcher = SimpleSearcher('indexes/lucene-index-msmarco-passage-noProcessing/')\n",
    "searcher.set_analyzer(get_lucene_analyzer(stemming=False, stopwords=True))\n",
    "\n",
    "queries = []\n",
    "with open(\"queries.tsv\", \"r\") as f:\n",
    "    for line in f.readlines():\n",
    "        parts = line.split(\"\\t\")\n",
    "        # parts[0] ~> topic id\n",
    "        # parts[1] ~> query\n",
    "        queries.append((parts[0], parts[1].strip()))\n",
    "        \n",
    "def search(weights_file,run_file: str, k: int=10, m: int=10):\n",
    "    # Get bm25 ranking and Score with Tildev2\n",
    "    bm25_rank_lst = []\n",
    "    for topic_id, query in tqdm(queries):\n",
    "        hits = searcher.search(query,k=k)\n",
    "        topic_lst = []\n",
    "        for i, hit in enumerate(hits):\n",
    "            record_lst = []\n",
    "            record_lst.append(topic_id)\n",
    "            record_lst.append(query)\n",
    "            record_lst.append(hit.docid)\n",
    "            content = hits[i].raw\n",
    "            record_lst.append(content)\n",
    "            record_lst.append(i+1)\n",
    "            score = tildev2_scoreing(query,hits[i].raw,weights_file,int(hit.docid))\n",
    "            record_lst.append(score)\n",
    "            topic_lst.append(record_lst)\n",
    "        bm25_rank_lst.append(topic_lst)\n",
    "    \n",
    "    # Re-rank by Tildev score\n",
    "    df_lst = []\n",
    "    for i in tqdm(bm25_rank_lst):\n",
    "        df = pd.DataFrame(i,columns=['topic_id','query','docid','doc_content','bm25_rank','tildev_score'])\n",
    "        df.sort_values(by = ['tildev_score'],axis=0,ascending=False, inplace=True)\n",
    "        df.reset_index(drop=True,inplace=True)\n",
    "        df['tildev_rank'] = df.index\n",
    "        df = df.iloc[:m]\n",
    "        df_lst.append(df)\n",
    "    print('Tildev2 Re-rank Done!')\n",
    "    \n",
    "    # Process data for monoBERT\n",
    "    tildev_rank_lst = []\n",
    "    for i in tqdm(range(len(df_lst))):\n",
    "        query_df = df_lst[i][['topic_id','query']]\n",
    "        query_df.drop_duplicates(inplace=True)\n",
    "        doc_df = df_lst[i][['docid','doc_content']]\n",
    "        #print(len(query_df),len(doc_df))\n",
    "        \n",
    "        # Score with monoBERT\n",
    "        for topic_id, query in query_df.values:\n",
    "            topic_lst = []\n",
    "            rank = 0\n",
    "            for docid, content in doc_df.values:\n",
    "                #print('Topic:',query , 'Doc:', docid)\n",
    "                record_lst = []\n",
    "                record_lst.append(topic_id)\n",
    "                record_lst.append(docid)\n",
    "                record_lst.append(rank+1)\n",
    "                score = monoBERT_score(query, content)\n",
    "                record_lst.append(score)\n",
    "                topic_lst.append(record_lst)\n",
    "                rank += 1\n",
    "            tildev_rank_lst.append(topic_lst)\n",
    "    \n",
    "    # Re-rank by BERT score\n",
    "    df_lst = []\n",
    "    for i in tqdm(tildev_rank_lst):\n",
    "        df = pd.DataFrame(i,columns=['topic_id','docid','tildev2_rank','bert_score'])\n",
    "        df.sort_values(by = ['bert_score'],axis=0,ascending=False, inplace=True)\n",
    "        df.reset_index(drop=True,inplace=True)\n",
    "        df['bert_rank'] = df.index\n",
    "        df_lst.append(df)\n",
    "    \n",
    "    overall_df = pd.concat(df_lst)\n",
    "    overall_df = overall_df[['topic_id','docid','bert_rank','bert_score']]\n",
    "    \n",
    "    # Write the BERT re-rank list to run\n",
    "    with open(run_file, \"w\") as f:\n",
    "        for topic_id,docid,bert_rank,bert_score in tqdm(overall_df.values):\n",
    "            # Write the results to our file.\n",
    "            f.write(f\"{topic_id} Q0 {docid} {bert_rank} {bert_score} infs7410_pj2\\n\")"
   ]
  },
  {
   "cell_type": "code",
   "execution_count": 98,
   "id": "95274aa5",
   "metadata": {},
   "outputs": [
    {
     "name": "stderr",
     "output_type": "stream",
     "text": [
      "100%|███████████████████████████████████████████| 43/43 [00:42<00:00,  1.02it/s]\n",
      "100%|███████████████████████████████████████████| 43/43 [00:00<00:00, 55.81it/s]\n"
     ]
    },
    {
     "name": "stdout",
     "output_type": "stream",
     "text": [
      "Tildev2 Re-rank Done!\n"
     ]
    },
    {
     "name": "stderr",
     "output_type": "stream",
     "text": [
      "100%|████████████████████████████████████████| 43/43 [2:21:21<00:00, 197.25s/it]\n",
      "100%|██████████████████████████████████████████| 43/43 [00:00<00:00, 754.04it/s]\n",
      "100%|███████████████████████████████████| 4300/4300 [00:00<00:00, 539516.80it/s]\n",
      "100%|███████████████████████████████████████████| 43/43 [00:58<00:00,  1.36s/it]\n",
      "100%|██████████████████████████████████████████| 43/43 [00:00<00:00, 596.52it/s]\n"
     ]
    },
    {
     "name": "stdout",
     "output_type": "stream",
     "text": [
      "Tildev2 Re-rank Done!\n"
     ]
    },
    {
     "name": "stderr",
     "output_type": "stream",
     "text": [
      "100%|███████████████████████████████████████████| 43/43 [12:07<00:00, 16.91s/it]\n",
      "100%|█████████████████████████████████████████| 43/43 [00:00<00:00, 1491.34it/s]\n",
      "100%|█████████████████████████████████████| 430/430 [00:00<00:00, 522465.45it/s]\n"
     ]
    }
   ],
   "source": [
    "# BM25 rank 1000 documents -> TILDEv2 re-rank 1000 documents -> monoBERT re-rank 100/10 documents\n",
    "search(weights_file,\"pj2_k1000_tildev_m100_bert.run\",k=1000,m=100)\n",
    "search(weights_file,\"pj2_k1000_tildev_m10_bert.run\",k=1000,m=10)"
   ]
  },
  {
   "cell_type": "code",
   "execution_count": 113,
   "id": "8fce6a36",
   "metadata": {},
   "outputs": [
    {
     "name": "stderr",
     "output_type": "stream",
     "text": [
      "100%|███████████████████████████████████████████| 43/43 [05:22<00:00,  7.50s/it]\n",
      "100%|███████████████████████████████████████████| 43/43 [00:00<00:00, 54.23it/s]\n"
     ]
    },
    {
     "name": "stdout",
     "output_type": "stream",
     "text": [
      "Tildev2 Re-rank Done!\n"
     ]
    },
    {
     "name": "stderr",
     "output_type": "stream",
     "text": [
      "100%|██████████████████████████████████████| 43/43 [12:05:01<00:00, 1011.67s/it]\n",
      "100%|██████████████████████████████████████████| 43/43 [00:00<00:00, 384.32it/s]\n",
      "100%|█████████████████████████████████| 21500/21500 [00:00<00:00, 555054.82it/s]\n"
     ]
    }
   ],
   "source": [
    "search(weights_file,\"pj2_k1000_tildev_m500_bert.run\",k=1000,m=500)"
   ]
  },
  {
   "cell_type": "markdown",
   "id": "f1743543",
   "metadata": {},
   "source": [
    "### Evaluate Performance\n",
    "\n",
    "To find out the most effective model, statistical testing is applied.\n",
    "\n",
    "I will first find out the best top X documents used to retrieve related documents for each method and then compare the efficiency and effectiveness for finding the best method."
   ]
  },
  {
   "cell_type": "markdown",
   "id": "bb3892d3",
   "metadata": {},
   "source": [
    "#### ANCE\n",
    "|                                | MAP    | nDCG   | Recall | Reciprocal Rank |\n",
    "|--------------------------------|--------|--------|--------|-----------------|\n",
    "| BM25 + ANCE Top 10 documents   | 0.1187 | 0.5031 | 0.1333 | 0.8599          |\n",
    "| BM25 + ANCE Top 100 documents  | 0.3209 | 0.6379 | 0.4369 | 0.8844          |\n",
    "| BM25 + ANCE Top 500 documents  | 0.3698 | 0.6533 | 0.6275 | 0.9029          |\n",
    "| BM25 + ANCE Top 1000 documents | 0.3656 | 0.6553 | 0.6847 | 0.9070          |"
   ]
  },
  {
   "cell_type": "code",
   "execution_count": 109,
   "id": "1ec790cc",
   "metadata": {},
   "outputs": [
    {
     "name": "stdout",
     "output_type": "stream",
     "text": [
      "--------------ANCE TOP 10-----------------\n",
      "map                      all     0.1187\n",
      "ndcg_cut_10              all     0.5031\n",
      "recall_1000              all     0.1333\n",
      "recip_rank               all     0.8599\n",
      "--------------ANCE TOP 100----------------\n",
      "map                      all     0.3209\n",
      "ndcg_cut_10              all     0.6379\n",
      "recall_1000              all     0.4369\n",
      "recip_rank               all     0.8844\n",
      "--------------ANCE TOP 500----------------\n",
      "map                      all     0.3698\n",
      "ndcg_cut_10              all     0.6533\n",
      "recall_1000              all     0.6275\n",
      "recip_rank               all     0.9029\n",
      "--------------ANCE TOP 1000---------------\n",
      "map                      all     0.3656\n",
      "ndcg_cut_10              all     0.6553\n",
      "recall_1000              all     0.6847\n",
      "recip_rank               all     0.9070\n"
     ]
    }
   ],
   "source": [
    "print('--------------ANCE TOP 10-----------------')\n",
    "# top 10 documents\n",
    "with open(\"pj2_k10_ance.run\", \"r\") as f:\n",
    "    pj2_k10_ance_run = pytrec_eval.parse_run(f)\n",
    "\n",
    "# Score the queries.\n",
    "ance10_results = print_results(pj2_k10_ance_run)\n",
    "\n",
    "# top 100 documents\n",
    "print('--------------ANCE TOP 100----------------')\n",
    "with open(\"pj2_k100_ance.run\", \"r\") as f:\n",
    "    pj2_k100_ance_run = pytrec_eval.parse_run(f)\n",
    "\n",
    "# Score the queries.\n",
    "ance_100_results = print_results(pj2_k100_ance_run)\n",
    "\n",
    "# top 500 documents\n",
    "print('--------------ANCE TOP 500----------------')\n",
    "with open(\"pj2_k500_ance.run\", \"r\") as f:\n",
    "    pj2_k500_ance_run = pytrec_eval.parse_run(f)\n",
    "\n",
    "# Score the queries.\n",
    "ance500_results = print_results(pj2_k500_ance_run)\n",
    "\n",
    "# top 1000 documents\n",
    "print('--------------ANCE TOP 1000---------------')\n",
    "with open(\"pj2_k1000_ance.run\", \"r\") as f:\n",
    "    pj2_k1000_ance_run = pytrec_eval.parse_run(f)\n",
    "\n",
    "# Score the queries.\n",
    "ance1000_results = print_results(pj2_k1000_ance_run)"
   ]
  },
  {
   "cell_type": "code",
   "execution_count": 118,
   "id": "c659a341",
   "metadata": {},
   "outputs": [
    {
     "name": "stdout",
     "output_type": "stream",
     "text": [
      "Recall: Ttest_relResult(statistic=-9.503195095739098, pvalue=5.0224729223791624e-12)\n",
      "MAP: Ttest_relResult(statistic=-8.35817977800316, pvalue=1.7796455986668777e-10)\n",
      "Reciprocal Rank: Ttest_relResult(statistic=-0.6612386504988657, pvalue=0.5120705671518859)\n",
      "nDCG: Ttest_relResult(statistic=-4.591290310612498, pvalue=3.9661193698824306e-05)\n"
     ]
    }
   ],
   "source": [
    "# top 10 vs top 100\n",
    "query_ids = list(\n",
    "    set(ance10_results.keys()) & set(ance_100_results.keys()))\n",
    "\n",
    "ance10_scores = [\n",
    "    ance10_results[query_id][\"recall_1000\"] for query_id in query_ids]\n",
    "ance100_scores = [\n",
    "    ance_100_results[query_id][\"recall_1000\"] for query_id in query_ids]\n",
    "\n",
    "print('Recall:',scipy.stats.ttest_rel(ance10_scores, ance100_scores))\n",
    "\n",
    "ance10_scores = [\n",
    "    ance10_results[query_id][\"map\"] for query_id in query_ids]\n",
    "ance100_scores = [\n",
    "    ance_100_results[query_id][\"map\"] for query_id in query_ids]\n",
    "\n",
    "print('MAP:',scipy.stats.ttest_rel(ance10_scores, ance100_scores))\n",
    "\n",
    "ance10_scores = [\n",
    "    ance10_results[query_id][\"recip_rank\"] for query_id in query_ids]\n",
    "ance100_scores = [\n",
    "    ance_100_results[query_id][\"recip_rank\"] for query_id in query_ids]\n",
    "\n",
    "print('Reciprocal Rank:',scipy.stats.ttest_rel(ance10_scores, ance100_scores))\n",
    "\n",
    "ance10_scores = [\n",
    "    ance10_results[query_id][\"ndcg_cut_10\"] for query_id in query_ids]\n",
    "ance100_scores = [\n",
    "    ance_100_results[query_id][\"ndcg_cut_10\"] for query_id in query_ids]\n",
    "\n",
    "print('nDCG:',scipy.stats.ttest_rel(ance10_scores, ance100_scores))"
   ]
  },
  {
   "cell_type": "markdown",
   "id": "79150c94",
   "metadata": {},
   "source": [
    "Using top 10 and top 100 documents for BM25 + ANCE shows a significant different in paired t-test for 3 out of 4 with both p<0.05 and p<0.01. Thus, there is obvious that using top 100 documents is more effective than using top 10 documents."
   ]
  },
  {
   "cell_type": "code",
   "execution_count": 123,
   "id": "4d83fe93",
   "metadata": {},
   "outputs": [
    {
     "name": "stdout",
     "output_type": "stream",
     "text": [
      "Recall: Ttest_relResult(statistic=-8.348574887091909, pvalue=1.8348517341196482e-10)\n",
      "MAP: Ttest_relResult(statistic=-2.8081929038436013, pvalue=0.007527207100833989)\n",
      "Reciprocal Rank: Ttest_relResult(statistic=-0.8361510945353431, pvalue=0.40780196765342047)\n",
      "nDCG: Ttest_relResult(statistic=-1.1996590429799967, pvalue=0.23699567642940145)\n"
     ]
    }
   ],
   "source": [
    "# top 100 vs top 500\n",
    "query_ids = list(\n",
    "    set(ance_100_results.keys()) & set(ance500_results.keys()))\n",
    "\n",
    "ance100_scores = [\n",
    "    ance_100_results[query_id][\"recall_1000\"] for query_id in query_ids]\n",
    "ance500_scores = [\n",
    "    ance500_results[query_id][\"recall_1000\"] for query_id in query_ids]\n",
    "\n",
    "print('Recall:',scipy.stats.ttest_rel(ance100_scores, ance500_scores))\n",
    "\n",
    "ance100_scores = [\n",
    "    ance_100_results[query_id][\"map\"] for query_id in query_ids]\n",
    "ance500_scores = [\n",
    "    ance500_results[query_id][\"map\"] for query_id in query_ids]\n",
    "\n",
    "print('MAP:',scipy.stats.ttest_rel(ance100_scores, ance500_scores))\n",
    "\n",
    "ance100_scores = [\n",
    "    ance_100_results[query_id][\"recip_rank\"] for query_id in query_ids]\n",
    "ance500_scores = [\n",
    "    ance500_results[query_id][\"recip_rank\"] for query_id in query_ids]\n",
    "\n",
    "print('Reciprocal Rank:',scipy.stats.ttest_rel(ance100_scores, ance500_scores))\n",
    "\n",
    "ance100_scores = [\n",
    "    ance_100_results[query_id][\"ndcg_cut_10\"] for query_id in query_ids]\n",
    "ance500_scores = [\n",
    "    ance500_results[query_id][\"ndcg_cut_10\"] for query_id in query_ids]\n",
    "\n",
    "print('nDCG:',scipy.stats.ttest_rel(ance100_scores, ance500_scores))"
   ]
  },
  {
   "cell_type": "markdown",
   "id": "6d10a0df",
   "metadata": {},
   "source": [
    "Using top 100 and top 500 documents for BM25 + ANCE does not show a significant different in paired t-test for 2 measures out of 4 for both p < 0.05 and p < 0.01. Thus, using top 100 documents and using top 500 documents does not show much different in effectiveness. However, consider the efficiency, top 100 documents iteration only took 26 minutes while top 500 documents iteration took 2 hours and 11 minutes. I would use top 100 documents to carry on for the comparison with top 1000 documents."
   ]
  },
  {
   "cell_type": "code",
   "execution_count": 126,
   "id": "de349823",
   "metadata": {},
   "outputs": [
    {
     "name": "stdout",
     "output_type": "stream",
     "text": [
      "Recall: Ttest_relResult(statistic=-9.349936633093355, pvalue=8.024407558928129e-12)\n",
      "MAP: Ttest_relResult(statistic=-2.243819056236087, pvalue=0.030173847603173463)\n",
      "Reciprocal Rank: Ttest_relResult(statistic=-0.9621465619609599, pvalue=0.34148294949451286)\n",
      "nDCG: Ttest_relResult(statistic=-1.3043053349172409, pvalue=0.19923222472353636)\n"
     ]
    }
   ],
   "source": [
    "# top 100 vs top 1000\n",
    "query_ids = list(\n",
    "    set(ance_100_results.keys()) & set(ance1000_results.keys()))\n",
    "\n",
    "ance100_scores = [\n",
    "    ance_100_results[query_id][\"recall_1000\"] for query_id in query_ids]\n",
    "ance1000_scores = [\n",
    "    ance1000_results[query_id][\"recall_1000\"] for query_id in query_ids]\n",
    "\n",
    "print('Recall:',scipy.stats.ttest_rel(ance100_scores, ance1000_scores))\n",
    "\n",
    "ance100_scores = [\n",
    "    ance_100_results[query_id][\"map\"] for query_id in query_ids]\n",
    "ance1000_scores = [\n",
    "    ance1000_results[query_id][\"map\"] for query_id in query_ids]\n",
    "\n",
    "print('MAP:',scipy.stats.ttest_rel(ance100_scores, ance1000_scores))\n",
    "\n",
    "ance100_scores = [\n",
    "    ance_100_results[query_id][\"recip_rank\"] for query_id in query_ids]\n",
    "ance1000_scores = [\n",
    "    ance1000_results[query_id][\"recip_rank\"] for query_id in query_ids]\n",
    "\n",
    "print('Reciprocal Rank:',scipy.stats.ttest_rel(ance100_scores, ance1000_scores))\n",
    "\n",
    "ance100_scores = [\n",
    "    ance_100_results[query_id][\"ndcg_cut_10\"] for query_id in query_ids]\n",
    "ance1000_scores = [\n",
    "    ance1000_results[query_id][\"ndcg_cut_10\"] for query_id in query_ids]\n",
    "\n",
    "print('nDCG:',scipy.stats.ttest_rel(ance100_scores, ance1000_scores))"
   ]
  },
  {
   "cell_type": "markdown",
   "id": "3ea688f7",
   "metadata": {},
   "source": [
    "Using top 100 and top 1000 documents for BM25 + ANCE does show a significant different in paired t-test for 2 measures out of 4 for p < 0.05 but only 1 out of 4 for p < 0.01. The effectiveness seems fair to these 2 choice. However, to further consider the efficiency, retrieving 100 documents took 26 minutes while retrieing 100 documents took 6 hours and 22 minutes.\n",
    "\n",
    "To rate the top X documents retrieved, with the consideration with both effectiveness and efficiency, I would choose top 100 documents for BM25 + ANCE to compare for the best model."
   ]
  },
  {
   "cell_type": "markdown",
   "id": "5eb3cb6b",
   "metadata": {},
   "source": [
    "#### TILDEv2\n",
    "\n",
    "|                                   | MAP    | nDCG   | Recall | Reciprocal Rank |\n",
    "|-----------------------------------|--------|--------|--------|-----------------|\n",
    "| BM25 + TILDEv2 Top 10 documents   | 0.1237 | 0.5191 | 0.1333 | 0.8884          |\n",
    "| BM25 + TILDEv2 Top 100 documents  | 0.3445 | 0.6707 | 0.4369 | 0.9380          |\n",
    "| BM25 + TILDEv2 Top 500 documents  | 0.4226 | 0.6713 | 0.6275 | 0.9380          |\n",
    "| BM25 + TILDEv2 Top 1000 documents | 0.4322 | 0.6720 | 0.6847 | 0.9399          |"
   ]
  },
  {
   "cell_type": "code",
   "execution_count": 108,
   "id": "5ad736ca",
   "metadata": {},
   "outputs": [
    {
     "name": "stdout",
     "output_type": "stream",
     "text": [
      "--------------TILDEv TOP 10-----------------\n",
      "map                      all     0.1237\n",
      "ndcg_cut_10              all     0.5191\n",
      "recall_1000              all     0.1333\n",
      "recip_rank               all     0.8884\n",
      "--------------TILDEv TOP 100----------------\n",
      "map                      all     0.3445\n",
      "ndcg_cut_10              all     0.6707\n",
      "recall_1000              all     0.4369\n",
      "recip_rank               all     0.9380\n",
      "--------------TILDEv TOP 500----------------\n",
      "map                      all     0.4226\n",
      "ndcg_cut_10              all     0.6713\n",
      "recall_1000              all     0.6275\n",
      "recip_rank               all     0.9380\n",
      "--------------TILDEv TOP 1000---------------\n",
      "map                      all     0.4322\n",
      "ndcg_cut_10              all     0.6720\n",
      "recall_1000              all     0.6847\n",
      "recip_rank               all     0.9399\n"
     ]
    }
   ],
   "source": [
    "print('--------------TILDEv TOP 10-----------------')\n",
    "# top 10 documents\n",
    "with open(\"pj2_k10_tildev.run\", \"r\") as f:\n",
    "    pj2_k10_tildev_run = pytrec_eval.parse_run(f)\n",
    "\n",
    "# Score the queries.\n",
    "tildev_10_results = print_results(pj2_k10_tildev_run)\n",
    "\n",
    "# top 100 documents\n",
    "print('--------------TILDEv TOP 100----------------')\n",
    "with open(\"pj2_k100_tildev.run\", \"r\") as f:\n",
    "    pj2_k100_tildev_run = pytrec_eval.parse_run(f)\n",
    "\n",
    "# Score the queries.\n",
    "tildev_100_results = print_results(pj2_k100_tildev_run)\n",
    "\n",
    "# top 500 documents\n",
    "print('--------------TILDEv TOP 500----------------')\n",
    "with open(\"pj2_k500_tildev.run\", \"r\") as f:\n",
    "    pj2_k500_tildev_run = pytrec_eval.parse_run(f)\n",
    "\n",
    "# Score the queries.\n",
    "tildev_500_results = print_results(pj2_k500_tildev_run)\n",
    "\n",
    "# top 1000 documents\n",
    "print('--------------TILDEv TOP 1000---------------')\n",
    "with open(\"pj2_k1000_tildev.run\", \"r\") as f:\n",
    "    pj2_k1000_tildev_run = pytrec_eval.parse_run(f)\n",
    "\n",
    "# Score the queries.\n",
    "tildev_1000_results = print_results(pj2_k1000_tildev_run)"
   ]
  },
  {
   "cell_type": "code",
   "execution_count": 130,
   "id": "6c2b522a",
   "metadata": {},
   "outputs": [
    {
     "name": "stdout",
     "output_type": "stream",
     "text": [
      "Recall: Ttest_relResult(statistic=-9.503195095739098, pvalue=5.0224729223791624e-12)\n",
      "MAP: Ttest_relResult(statistic=-8.573281846336577, pvalue=9.001657116534526e-11)\n",
      "Reciprocal Rank: Ttest_relResult(statistic=-1.2963253837847613, pvalue=0.20194133585170354)\n",
      "nDCG: Ttest_relResult(statistic=-5.580418946483057, pvalue=1.5905012065319153e-06)\n"
     ]
    }
   ],
   "source": [
    "# top 10 vs top 100\n",
    "query_ids = list(\n",
    "    set(tildev_10_results.keys()) & set(tildev_100_results.keys()))\n",
    "\n",
    "tildev10_scores = [\n",
    "    tildev_10_results[query_id][\"recall_1000\"] for query_id in query_ids]\n",
    "tildev100_scores = [\n",
    "    tildev_100_results[query_id][\"recall_1000\"] for query_id in query_ids]\n",
    "\n",
    "print('Recall:',scipy.stats.ttest_rel(tildev10_scores, tildev100_scores))\n",
    "\n",
    "tildev10_scores = [\n",
    "    tildev_10_results[query_id][\"map\"] for query_id in query_ids]\n",
    "tildev100_scores = [\n",
    "    tildev_100_results[query_id][\"map\"] for query_id in query_ids]\n",
    "\n",
    "print('MAP:',scipy.stats.ttest_rel(tildev10_scores, tildev100_scores))\n",
    "\n",
    "tildev10_scores = [\n",
    "    tildev_10_results[query_id][\"recip_rank\"] for query_id in query_ids]\n",
    "tildev100_scores = [\n",
    "    tildev_100_results[query_id][\"recip_rank\"] for query_id in query_ids]\n",
    "\n",
    "print('Reciprocal Rank:',scipy.stats.ttest_rel(tildev10_scores, tildev100_scores))\n",
    "\n",
    "tildev10_scores = [\n",
    "    tildev_10_results[query_id][\"ndcg_cut_10\"] for query_id in query_ids]\n",
    "tildev100_scores = [\n",
    "    tildev_100_results[query_id][\"ndcg_cut_10\"] for query_id in query_ids]\n",
    "\n",
    "print('nDCG:',scipy.stats.ttest_rel(tildev10_scores, tildev100_scores))"
   ]
  },
  {
   "cell_type": "markdown",
   "id": "e35c52e2",
   "metadata": {},
   "source": [
    "Using top 10 and top 100 documents for BM25 + TILDEv2 shows a significant different in paired t-test for 3 out of 4 with both p<0.05 and p<0.01. Thus, there is obvious that using top 100 documents is more effective than using top 10 documents."
   ]
  },
  {
   "cell_type": "code",
   "execution_count": 131,
   "id": "ab522aea",
   "metadata": {},
   "outputs": [
    {
     "name": "stdout",
     "output_type": "stream",
     "text": [
      "Recall: Ttest_relResult(statistic=8.348574887091909, pvalue=1.8348517341196482e-10)\n",
      "MAP: Ttest_relResult(statistic=4.907545813373008, pvalue=1.4364729220606346e-05)\n",
      "Reciprocal Rank: Ttest_relResult(statistic=0.0, pvalue=1.0)\n",
      "nDCG: Ttest_relResult(statistic=0.07212123313793188, pvalue=0.942847786539879)\n"
     ]
    }
   ],
   "source": [
    "# top 100 vs top 500\n",
    "query_ids = list(\n",
    "    set(tildev_500_results.keys()) & set(tildev_100_results.keys()))\n",
    "\n",
    "tildev500_scores = [\n",
    "    tildev_500_results[query_id][\"recall_1000\"] for query_id in query_ids]\n",
    "tildev100_scores = [\n",
    "    tildev_100_results[query_id][\"recall_1000\"] for query_id in query_ids]\n",
    "\n",
    "print('Recall:',scipy.stats.ttest_rel(tildev500_scores, tildev100_scores))\n",
    "\n",
    "tildev500_scores = [\n",
    "    tildev_500_results[query_id][\"map\"] for query_id in query_ids]\n",
    "tildev100_scores = [\n",
    "    tildev_100_results[query_id][\"map\"] for query_id in query_ids]\n",
    "\n",
    "print('MAP:',scipy.stats.ttest_rel(tildev500_scores, tildev100_scores))\n",
    "\n",
    "tildev500_scores = [\n",
    "    tildev_500_results[query_id][\"recip_rank\"] for query_id in query_ids]\n",
    "tildev100_scores = [\n",
    "    tildev_100_results[query_id][\"recip_rank\"] for query_id in query_ids]\n",
    "\n",
    "print('Reciprocal Rank:',scipy.stats.ttest_rel(tildev500_scores, tildev100_scores))\n",
    "\n",
    "tildev500_scores = [\n",
    "    tildev_500_results[query_id][\"ndcg_cut_10\"] for query_id in query_ids]\n",
    "tildev100_scores = [\n",
    "    tildev_100_results[query_id][\"ndcg_cut_10\"] for query_id in query_ids]\n",
    "\n",
    "print('nDCG:',scipy.stats.ttest_rel(tildev500_scores, tildev100_scores))"
   ]
  },
  {
   "cell_type": "markdown",
   "id": "63de9b3d",
   "metadata": {},
   "source": [
    "Using top 100 and top 500 documents for BM25 + TILDEv2 does show a significant different in paired t-test for 2 measures out of 4 for both p < 0.05 and p < 0.01. Thus, using top 100 documents and using top 500 documents does not show much different in effectiveness. However, consider the efficiency, top 100 documents iteration only took 8 minutes while top 500 documents iteration took 28 minutes. The average query latency of top 100 documents is 8/43(100) = 0.0019 minute per query and the average query latancy of top 500 documents is 28/43(500) = 0.0013 minute per query. Both choice does not show much diference in both effectiveness and efficiency. Thus, both will be compare with top 1000 documents for further selection."
   ]
  },
  {
   "cell_type": "code",
   "execution_count": 132,
   "id": "02167bd6",
   "metadata": {},
   "outputs": [
    {
     "name": "stdout",
     "output_type": "stream",
     "text": [
      "Recall: Ttest_relResult(statistic=-5.794012384454395, pvalue=7.855026131631119e-07)\n",
      "MAP: Ttest_relResult(statistic=-1.9452587726331636, pvalue=0.058458079512370656)\n",
      "Reciprocal Rank: Ttest_relResult(statistic=-1.0, pvalue=0.3230372876029872)\n",
      "nDCG: Ttest_relResult(statistic=-0.3027112932497088, pvalue=0.7636041067665238)\n"
     ]
    }
   ],
   "source": [
    "# top 500 vs top 1000\n",
    "query_ids = list(\n",
    "    set(tildev_500_results.keys()) & set(tildev_1000_results.keys()))\n",
    "\n",
    "tildev500_scores = [\n",
    "    tildev_500_results[query_id][\"recall_1000\"] for query_id in query_ids]\n",
    "tildev1000_scores = [\n",
    "    tildev_1000_results[query_id][\"recall_1000\"] for query_id in query_ids]\n",
    "\n",
    "print('Recall:',scipy.stats.ttest_rel(tildev500_scores, tildev1000_scores))\n",
    "\n",
    "tildev500_scores = [\n",
    "    tildev_500_results[query_id][\"map\"] for query_id in query_ids]\n",
    "tildev1000_scores = [\n",
    "    tildev_1000_results[query_id][\"map\"] for query_id in query_ids]\n",
    "\n",
    "print('MAP:',scipy.stats.ttest_rel(tildev500_scores, tildev1000_scores))\n",
    "\n",
    "tildev500_scores = [\n",
    "    tildev_500_results[query_id][\"recip_rank\"] for query_id in query_ids]\n",
    "tildev1000_scores = [\n",
    "    tildev_1000_results[query_id][\"recip_rank\"] for query_id in query_ids]\n",
    "\n",
    "print('Reciprocal Rank:',scipy.stats.ttest_rel(tildev500_scores, tildev1000_scores))\n",
    "\n",
    "tildev500_scores = [\n",
    "    tildev_500_results[query_id][\"ndcg_cut_10\"] for query_id in query_ids]\n",
    "tildev1000_scores = [\n",
    "    tildev_1000_results[query_id][\"ndcg_cut_10\"] for query_id in query_ids]\n",
    "\n",
    "print('nDCG:',scipy.stats.ttest_rel(tildev500_scores, tildev1000_scores))"
   ]
  },
  {
   "cell_type": "markdown",
   "id": "ccc55d3b",
   "metadata": {},
   "source": [
    "Using top 500 and top 1000 documents for BM25 + TILDEv2 does show a significant different in paired t-test for 1 measure out of 4 for p < 0.01 but shows no difference in 3 out of 4 measures. Obviously, using top 500 documents is better than using top 1000 documents."
   ]
  },
  {
   "cell_type": "code",
   "execution_count": 135,
   "id": "647ab091",
   "metadata": {},
   "outputs": [
    {
     "name": "stdout",
     "output_type": "stream",
     "text": [
      "Recall: Ttest_relResult(statistic=-9.349936633093355, pvalue=8.024407558928129e-12)\n",
      "MAP: Ttest_relResult(statistic=-5.119099707686372, pvalue=7.225683086490967e-06)\n",
      "Reciprocal Rank: Ttest_relResult(statistic=-0.19775273765841184, pvalue=0.844192535640827)\n",
      "nDCG: Ttest_relResult(statistic=-0.1521378246227346, pvalue=0.8798067262027511)\n"
     ]
    }
   ],
   "source": [
    "# top 100 vs top 1000\n",
    "query_ids = list(\n",
    "    set(tildev_100_results.keys()) & set(tildev_1000_results.keys()))\n",
    "\n",
    "tildev100_scores = [\n",
    "    tildev_100_results[query_id][\"recall_1000\"] for query_id in query_ids]\n",
    "tildev1000_scores = [\n",
    "    tildev_1000_results[query_id][\"recall_1000\"] for query_id in query_ids]\n",
    "\n",
    "print('Recall:',scipy.stats.ttest_rel(tildev100_scores, tildev1000_scores))\n",
    "\n",
    "tildev100_scores = [\n",
    "    tildev_100_results[query_id][\"map\"] for query_id in query_ids]\n",
    "tildev1000_scores = [\n",
    "    tildev_1000_results[query_id][\"map\"] for query_id in query_ids]\n",
    "\n",
    "print('MAP:',scipy.stats.ttest_rel(tildev100_scores, tildev1000_scores))\n",
    "\n",
    "tildev100_scores = [\n",
    "    tildev_100_results[query_id][\"recip_rank\"] for query_id in query_ids]\n",
    "tildev1000_scores = [\n",
    "    tildev_1000_results[query_id][\"recip_rank\"] for query_id in query_ids]\n",
    "\n",
    "print('Reciprocal Rank:',scipy.stats.ttest_rel(tildev100_scores, tildev1000_scores))\n",
    "\n",
    "tildev100_scores = [\n",
    "    tildev_100_results[query_id][\"ndcg_cut_10\"] for query_id in query_ids]\n",
    "tildev1000_scores = [\n",
    "    tildev_1000_results[query_id][\"ndcg_cut_10\"] for query_id in query_ids]\n",
    "\n",
    "print('nDCG:',scipy.stats.ttest_rel(tildev100_scores, tildev1000_scores))"
   ]
  },
  {
   "cell_type": "markdown",
   "id": "c0ec55f5",
   "metadata": {},
   "source": [
    "Using top 100 and top 1000 documents for BM25 + TILDEv2 does show a significant different in paired t-test for 2 measure out of 4 for both p < 0.05 and p < 0.01. The effectiveness seems fair for 2 cases. 8 minutes for using top 100 documents and 45 minutes for using top 1000 documents.\n",
    "\n",
    "So, in compare to using top 100, top 500 and top 1000 documents, using top 500 documents seems to be the best among three since both top 500 and top 1000 shows significant different to top 100 but top 1000 does not show significant different to top 500. Thus, I will choose using top 500 documents for BM25 + TILDEv2 model."
   ]
  },
  {
   "cell_type": "markdown",
   "id": "bb42734e",
   "metadata": {},
   "source": [
    "#### BM25 + TILDEv2 + monoBERT\n",
    "|                            | MAP    | nDCG   | Recall | Reciprocal Rank |\n",
    "|----------------------------|--------|--------|--------|-----------------|\n",
    "| monoBERT Top 10 documents  | 0.1598 | 0.6900 | 0.1718 | 0.9651          |\n",
    "| monoBERT Top 100 documents | 0.3882 | 0.7191 | 0.4735 | 0.9690          |\n",
    "| monoBERT Top 500 documents | 0.4747 | 0.7132 | 0.6529 | 0.9574          |"
   ]
  },
  {
   "cell_type": "code",
   "execution_count": 114,
   "id": "9508363f",
   "metadata": {},
   "outputs": [
    {
     "name": "stdout",
     "output_type": "stream",
     "text": [
      "--------------monoBERT TOP 10-----------------\n",
      "map                      all     0.1598\n",
      "ndcg_cut_10              all     0.6900\n",
      "recall_1000              all     0.1718\n",
      "recip_rank               all     0.9651\n",
      "--------------monoBERT TOP 100----------------\n",
      "map                      all     0.3882\n",
      "ndcg_cut_10              all     0.7191\n",
      "recall_1000              all     0.4735\n",
      "recip_rank               all     0.9690\n",
      "--------------monoBERT TOP 500----------------\n",
      "map                      all     0.4747\n",
      "ndcg_cut_10              all     0.7132\n",
      "recall_1000              all     0.6529\n",
      "recip_rank               all     0.9574\n",
      "--------------monoBERT TOP 1000---------------\n",
      "map                      all     0.4810\n",
      "ndcg_cut_10              all     0.7132\n",
      "recall_1000              all     0.6847\n",
      "recip_rank               all     0.9574\n"
     ]
    }
   ],
   "source": [
    "print('--------------monoBERT TOP 10-----------------')\n",
    "# top 10 documents\n",
    "with open(\"pj2_k1000_tildev_m10_bert.run\", \"r\") as f:\n",
    "    pj2_k10_mono_run = pytrec_eval.parse_run(f)\n",
    "\n",
    "# Score the queries.\n",
    "mono_10_results = print_results(pj2_k10_mono_run)\n",
    "\n",
    "# top 100 documents\n",
    "print('--------------monoBERT TOP 100----------------')\n",
    "with open(\"pj2_k1000_tildev_m100_bert.run\", \"r\") as f:\n",
    "    pj2_k100_mono_run = pytrec_eval.parse_run(f)\n",
    "\n",
    "# Score the queries.\n",
    "mono_100_results = print_results(pj2_k100_mono_run)\n",
    "\n",
    "# top 500 documents\n",
    "print('--------------monoBERT TOP 500----------------')\n",
    "with open(\"pj2_k1000_tildev_m500_bert.run\", \"r\") as f:\n",
    "    pj2_k500_mono_run = pytrec_eval.parse_run(f)\n",
    "\n",
    "# Score the queries.\n",
    "mono_500_results = print_results(pj2_k500_mono_run)\n",
    "\n",
    "# top 1000 documents\n",
    "print('--------------monoBERT TOP 1000---------------')\n",
    "with open(\"pj2_k1000_tildev_bert.run\", \"r\") as f:\n",
    "    pj2_k1000_mono_run = pytrec_eval.parse_run(f)\n",
    "\n",
    "# Score the queries.\n",
    "mono_1000_results = print_results(pj2_k1000_mono_run)"
   ]
  },
  {
   "cell_type": "code",
   "execution_count": 138,
   "id": "56dcdd83",
   "metadata": {},
   "outputs": [
    {
     "name": "stdout",
     "output_type": "stream",
     "text": [
      "Recall: Ttest_relResult(statistic=-11.188174117282225, pvalue=3.539382256615417e-14)\n",
      "MAP: Ttest_relResult(statistic=-9.75842897200677, pvalue=2.3164581362698053e-12)\n",
      "Reciprocal Rank: Ttest_relResult(statistic=-0.19775273765841192, pvalue=0.8441925356408269)\n",
      "nDCG: Ttest_relResult(statistic=-1.4020086513620642, pvalue=0.16826042887754597)\n"
     ]
    }
   ],
   "source": [
    "# top 10 vs top 100\n",
    "query_ids = list(\n",
    "    set(mono_10_results.keys()) & set(mono_100_results.keys()))\n",
    "\n",
    "mono10_scores = [\n",
    "    mono_10_results[query_id][\"recall_1000\"] for query_id in query_ids]\n",
    "mono100_scores = [\n",
    "    mono_100_results[query_id][\"recall_1000\"] for query_id in query_ids]\n",
    "\n",
    "print('Recall:',scipy.stats.ttest_rel(mono10_scores, mono100_scores))\n",
    "\n",
    "mono10_scores = [\n",
    "    mono_10_results[query_id][\"map\"] for query_id in query_ids]\n",
    "mono100_scores = [\n",
    "    mono_100_results[query_id][\"map\"] for query_id in query_ids]\n",
    "\n",
    "print('MAP:',scipy.stats.ttest_rel(mono10_scores, mono100_scores))\n",
    "\n",
    "mono10_scores = [\n",
    "    mono_10_results[query_id][\"recip_rank\"] for query_id in query_ids]\n",
    "mono100_scores = [\n",
    "    mono_100_results[query_id][\"recip_rank\"] for query_id in query_ids]\n",
    "\n",
    "print('Reciprocal Rank:',scipy.stats.ttest_rel(mono10_scores, mono100_scores))\n",
    "\n",
    "mono10_scores = [\n",
    "    mono_10_results[query_id][\"ndcg_cut_10\"] for query_id in query_ids]\n",
    "mono100_scores = [\n",
    "    mono_100_results[query_id][\"ndcg_cut_10\"] for query_id in query_ids]\n",
    "\n",
    "print('nDCG:',scipy.stats.ttest_rel(mono10_scores, mono100_scores))"
   ]
  },
  {
   "cell_type": "code",
   "execution_count": 137,
   "id": "69774a38",
   "metadata": {},
   "outputs": [
    {
     "name": "stdout",
     "output_type": "stream",
     "text": [
      "Recall: Ttest_relResult(statistic=-7.258767159462502, pvalue=6.213578528480439e-09)\n",
      "MAP: Ttest_relResult(statistic=-5.531556153042377, pvalue=1.8684620117515687e-06)\n",
      "Reciprocal Rank: Ttest_relResult(statistic=1.0, pvalue=0.3230372876029872)\n",
      "nDCG: Ttest_relResult(statistic=1.3005798040609409, pvalue=0.2004935611010757)\n"
     ]
    }
   ],
   "source": [
    "# top 100 vs top 500\n",
    "query_ids = list(\n",
    "    set(mono_100_results.keys()) & set(mono_500_results.keys()))\n",
    "\n",
    "mono100_scores = [\n",
    "    mono_100_results[query_id][\"recall_1000\"] for query_id in query_ids]\n",
    "mono500_scores = [\n",
    "    mono_500_results[query_id][\"recall_1000\"] for query_id in query_ids]\n",
    "\n",
    "print('Recall:',scipy.stats.ttest_rel(mono100_scores, mono500_scores))\n",
    "\n",
    "mono100_scores = [\n",
    "    mono_100_results[query_id][\"map\"] for query_id in query_ids]\n",
    "mono500_scores = [\n",
    "    mono_500_results[query_id][\"map\"] for query_id in query_ids]\n",
    "\n",
    "print('MAP:',scipy.stats.ttest_rel(mono100_scores, mono500_scores))\n",
    "\n",
    "mono100_scores = [\n",
    "    mono_100_results[query_id][\"recip_rank\"] for query_id in query_ids]\n",
    "mono500_scores = [\n",
    "    mono_500_results[query_id][\"recip_rank\"] for query_id in query_ids]\n",
    "\n",
    "print('Reciprocal Rank:',scipy.stats.ttest_rel(mono100_scores, mono500_scores))\n",
    "\n",
    "mono100_scores = [\n",
    "    mono_100_results[query_id][\"ndcg_cut_10\"] for query_id in query_ids]\n",
    "mono500_scores = [\n",
    "    mono_500_results[query_id][\"ndcg_cut_10\"] for query_id in query_ids]\n",
    "\n",
    "print('nDCG:',scipy.stats.ttest_rel(mono100_scores, mono500_scores))"
   ]
  },
  {
   "cell_type": "code",
   "execution_count": 140,
   "id": "82e9b098",
   "metadata": {},
   "outputs": [
    {
     "name": "stdout",
     "output_type": "stream",
     "text": [
      "Recall: Ttest_relResult(statistic=-12.0302815436276, pvalue=3.4126434189928683e-15)\n",
      "MAP: Ttest_relResult(statistic=-9.793360466916747, pvalue=2.0849808467613403e-12)\n",
      "Reciprocal Rank: Ttest_relResult(statistic=0.3394500514782102, pvalue=0.7359623108971427)\n",
      "nDCG: Ttest_relResult(statistic=-1.1911750616234142, pvalue=0.24027318806394188)\n"
     ]
    }
   ],
   "source": [
    "# top 10 vs top 500\n",
    "query_ids = list(\n",
    "    set(mono_10_results.keys()) & set(mono_500_results.keys()))\n",
    "\n",
    "mono10_scores = [\n",
    "    mono_10_results[query_id][\"recall_1000\"] for query_id in query_ids]\n",
    "mono500_scores = [\n",
    "    mono_500_results[query_id][\"recall_1000\"] for query_id in query_ids]\n",
    "\n",
    "print('Recall:',scipy.stats.ttest_rel(mono10_scores, mono500_scores))\n",
    "\n",
    "mono10_scores = [\n",
    "    mono_10_results[query_id][\"map\"] for query_id in query_ids]\n",
    "mono500_scores = [\n",
    "    mono_500_results[query_id][\"map\"] for query_id in query_ids]\n",
    "\n",
    "print('MAP:',scipy.stats.ttest_rel(mono10_scores, mono500_scores))\n",
    "\n",
    "mono10_scores = [\n",
    "    mono_10_results[query_id][\"recip_rank\"] for query_id in query_ids]\n",
    "mono500_scores = [\n",
    "    mono_500_results[query_id][\"recip_rank\"] for query_id in query_ids]\n",
    "\n",
    "print('Reciprocal Rank:',scipy.stats.ttest_rel(mono10_scores, mono500_scores))\n",
    "\n",
    "mono10_scores = [\n",
    "    mono_10_results[query_id][\"ndcg_cut_10\"] for query_id in query_ids]\n",
    "mono500_scores = [\n",
    "    mono_500_results[query_id][\"ndcg_cut_10\"] for query_id in query_ids]\n",
    "\n",
    "print('nDCG:',scipy.stats.ttest_rel(mono10_scores, mono500_scores))"
   ]
  },
  {
   "cell_type": "markdown",
   "id": "5f3a2e87",
   "metadata": {},
   "source": [
    "For the BM25 + TILDEv2 + monoBERT model, three methods show significant difference with 2 out of 4 meansures got p < 0.05 and p < 0.01. Accounting to the effectiveness and efficiency, I will choose using top 100 documents for the monoBERT re-rank as it takes 2 hours and 22 minutes to achieve similar performance in reciprocal rank and nDCG with using top 500 documents while using top 500 documents requires 12 hours and 11 minutes. Although using top 500 documents can slightly increase the mean average precision and recall, the whole pipeline is then extneded for 10 more hours. Thus, I will choose using top 100 documents for this three stage pipeline."
   ]
  },
  {
   "cell_type": "markdown",
   "id": "9842fd4b",
   "metadata": {},
   "source": [
    "## Three model selected\n",
    "\n",
    "|                                  | MAP     | nDCG   | Recall | Reciprocal Rank |\n",
    "|----------------------------------|---------|--------|--------|-----------------|\n",
    "| BM25 + ANCE Top 100 documents    | 0.3209  | 0.6379 | 0.4369 | 0.8844          |\n",
    "| BM25 + TILDEv2 Top 500 documents | 0.4226  | 0.6713 | 0.6275 | 0.9380          |\n",
    "| monoBERT Top 100 documents       | 0.3882  | 0.7191 | 0.4735 | 0.9690          |"
   ]
  },
  {
   "cell_type": "markdown",
   "id": "0cffd1e7",
   "metadata": {},
   "source": [
    "Based on the table above, BM25 + TILDEv2 model and three stage model outperform BM25 + ANCE. However, when comparing between BM25 + TILDEv2 model and three stage model, there are not enough evidence to show which model completely out perform against each other.\n",
    "\n",
    "So, we pick nDCG to compare with all three models to evaluate the rank the performance among the models."
   ]
  },
  {
   "cell_type": "code",
   "execution_count": 174,
   "id": "4379780d",
   "metadata": {},
   "outputs": [
    {
     "data": {
      "image/png": "[encoded data removed]",
      "text/plain": [
       "<Figure size 432x288 with 1 Axes>"
      ]
     },
     "metadata": {
      "needs_background": "light"
     },
     "output_type": "display_data"
    },
    {
     "data": {
      "image/png": "[encoded data removed]",
      "text/plain": [
       "<Figure size 432x288 with 1 Axes>"
      ]
     },
     "metadata": {
      "needs_background": "light"
     },
     "output_type": "display_data"
    },
    {
     "data": {
      "image/png": "[encoded data removed]",
      "text/plain": [
       "<Figure size 432x288 with 1 Axes>"
      ]
     },
     "metadata": {
      "needs_background": "light"
     },
     "output_type": "display_data"
    }
   ],
   "source": [
    "measure = \"ndcg_cut_10\"\n",
    "\n",
    "title = \"gains/losses in nDCG between BM25 + ANCE and BM25 + TILDEv2\"\n",
    "\n",
    "r = dict([(key, value[measure]) for key, value in ance_100_results.items()])\n",
    "\n",
    "r1 = dict([(key, value[measure]) for key, value in ance_100_results.items()])\n",
    "r2 = dict([(key, value[measure]) for key, value in tildev_500_results.items()])\n",
    "ind = np.arange(len(r1))\n",
    "# https://matplotlib.org/3.1.0/gallery/lines_bars_and_markers/barchart.html\n",
    "plt.bar(ind, np.subtract(list(r2.values()), list(r1.values())))\n",
    "plt.xticks(ind, list(r.keys()), rotation=\"vertical\")\n",
    "plt.ylim(-1, 1)\n",
    "plt.title(title)\n",
    "plt.ylabel(measure)\n",
    "plt.xlabel(\"topics\")\n",
    "plt.tight_layout()\n",
    "plt.show()\n",
    "\n",
    "\n",
    "title = \"gains/losses in nDCG between BM25 + TILDEv2 and Three Stage\"\n",
    "\n",
    "r = dict([(key, value[measure]) for key, value in tildev_500_results.items()])\n",
    "\n",
    "r1 = dict([(key, value[measure]) for key, value in tildev_500_results.items()])\n",
    "r2 = dict([(key, value[measure]) for key, value in mono_100_results.items()])\n",
    "ind = np.arange(len(r1))\n",
    "# https://matplotlib.org/3.1.0/gallery/lines_bars_and_markers/barchart.html\n",
    "plt.bar(ind, np.subtract(list(r2.values()), list(r1.values())))\n",
    "plt.xticks(ind, list(r.keys()), rotation=\"vertical\")\n",
    "plt.ylim(-1, 1)\n",
    "plt.title(title)\n",
    "plt.ylabel(measure)\n",
    "plt.xlabel(\"topics\")\n",
    "plt.tight_layout()\n",
    "plt.show()\n",
    "\n",
    "title = \"gains/losses in nDCG between BM25 + ANCE and Three Stage\"\n",
    "\n",
    "r = dict([(key, value[measure]) for key, value in ance_100_results.items()])\n",
    "\n",
    "r1 = dict([(key, value[measure]) for key, value in ance_100_results.items()])\n",
    "r2 = dict([(key, value[measure]) for key, value in mono_100_results.items()])\n",
    "ind = np.arange(len(r1))\n",
    "# https://matplotlib.org/3.1.0/gallery/lines_bars_and_markers/barchart.html\n",
    "plt.bar(ind, np.subtract(list(r2.values()), list(r1.values())))\n",
    "plt.xticks(ind, list(r.keys()), rotation=\"vertical\")\n",
    "plt.ylim(-1, 1)\n",
    "plt.title(title)\n",
    "plt.ylabel(measure)\n",
    "plt.xlabel(\"topics\")\n",
    "plt.tight_layout()\n",
    "plt.show()"
   ]
  },
  {
   "cell_type": "markdown",
   "id": "68f59ab0",
   "metadata": {},
   "source": [
    "From the graphs above, we can observe that BM25 + TILDEv2 and three stage model have more gain when compare to the BM25 + ANCE. So, the worst model among these three is BM25 + ANCE model.\n",
    "\n",
    "From the second graph, we can observe that three stage model have more gains when compare to BM25 + TILDEv2. Thus, the best model among three is the three stage model.\n",
    "\n",
    "Model ranking based on Gain Loss:\n",
    "three stage > BM25 + TILDEv2 > BM25 + ANCE"
   ]
  },
  {
   "cell_type": "markdown",
   "id": "16d9130c",
   "metadata": {},
   "source": [
    "### Perform on test set\n",
    "\n",
    "Since the above result shows the three stage model is the best model, I will apply model to the test set to further evaluate the performance of the model."
   ]
  },
  {
   "cell_type": "code",
   "execution_count": 175,
   "id": "d84c8e04",
   "metadata": {},
   "outputs": [],
   "source": [
    "test_queries = []\n",
    "with open(\"test_queries.tsv\", \"r\") as f:\n",
    "    for line in f.readlines():\n",
    "        parts = line.split(\"\\t\")\n",
    "        # parts[0] ~> topic id\n",
    "        # parts[1] ~> query\n",
    "        test_queries.append((parts[0], parts[1].strip()))\n",
    "        \n",
    "def search(weights_file,run_file: str, k: int=10, m: int=10):\n",
    "    # Get bm25 ranking and Score with Tildev2\n",
    "    bm25_rank_lst = []\n",
    "    for topic_id, query in tqdm(test_queries):\n",
    "        hits = searcher.search(query,k=k)\n",
    "        topic_lst = []\n",
    "        for i, hit in enumerate(hits):\n",
    "            record_lst = []\n",
    "            record_lst.append(topic_id)\n",
    "            record_lst.append(query)\n",
    "            record_lst.append(hit.docid)\n",
    "            content = hits[i].raw\n",
    "            record_lst.append(content)\n",
    "            record_lst.append(i+1)\n",
    "            score = tildev2_scoreing(query,hits[i].raw,weights_file,int(hit.docid))\n",
    "            record_lst.append(score)\n",
    "            topic_lst.append(record_lst)\n",
    "        bm25_rank_lst.append(topic_lst)\n",
    "    \n",
    "    # Re-rank by Tildev score\n",
    "    df_lst = []\n",
    "    for i in tqdm(bm25_rank_lst):\n",
    "        df = pd.DataFrame(i,columns=['topic_id','query','docid','doc_content','bm25_rank','tildev_score'])\n",
    "        df.sort_values(by = ['tildev_score'],axis=0,ascending=False, inplace=True)\n",
    "        df.reset_index(drop=True,inplace=True)\n",
    "        df['tildev_rank'] = df.index\n",
    "        df = df.iloc[:m]\n",
    "        df_lst.append(df)\n",
    "    print('Tildev2 Re-rank Done!')\n",
    "    \n",
    "    # Process data for monoBERT\n",
    "    tildev_rank_lst = []\n",
    "    for i in tqdm(range(len(df_lst))):\n",
    "        query_df = df_lst[i][['topic_id','query']]\n",
    "        query_df.drop_duplicates(inplace=True)\n",
    "        doc_df = df_lst[i][['docid','doc_content']]\n",
    "        #print(len(query_df),len(doc_df))\n",
    "        \n",
    "        # Score with monoBERT\n",
    "        for topic_id, query in query_df.values:\n",
    "            topic_lst = []\n",
    "            rank = 0\n",
    "            for docid, content in doc_df.values:\n",
    "                #print('Topic:',query , 'Doc:', docid)\n",
    "                record_lst = []\n",
    "                record_lst.append(topic_id)\n",
    "                record_lst.append(docid)\n",
    "                record_lst.append(rank+1)\n",
    "                score = monoBERT_score(query, content)\n",
    "                record_lst.append(score)\n",
    "                topic_lst.append(record_lst)\n",
    "                rank += 1\n",
    "            tildev_rank_lst.append(topic_lst)\n",
    "    \n",
    "    # Re-rank by BERT score\n",
    "    df_lst = []\n",
    "    for i in tqdm(tildev_rank_lst):\n",
    "        df = pd.DataFrame(i,columns=['topic_id','docid','tildev2_rank','bert_score'])\n",
    "        df.sort_values(by = ['bert_score'],axis=0,ascending=False, inplace=True)\n",
    "        df.reset_index(drop=True,inplace=True)\n",
    "        df['bert_rank'] = df.index\n",
    "        df_lst.append(df)\n",
    "    \n",
    "    overall_df = pd.concat(df_lst)\n",
    "    overall_df = overall_df[['topic_id','docid','bert_rank','bert_score']]\n",
    "    \n",
    "    # Write the BERT re-rank list to run\n",
    "    with open(run_file, \"w\") as f:\n",
    "        for topic_id,docid,bert_rank,bert_score in tqdm(overall_df.values):\n",
    "            # Write the results to our file.\n",
    "            f.write(f\"{topic_id} Q0 {docid} {bert_rank} {bert_score} infs7410_pj2\\n\")"
   ]
  },
  {
   "cell_type": "code",
   "execution_count": 176,
   "id": "8c0728b8",
   "metadata": {},
   "outputs": [
    {
     "name": "stderr",
     "output_type": "stream",
     "text": [
      "100%|███████████████████████████████████████████| 54/54 [00:40<00:00,  1.34it/s]\n",
      "100%|██████████████████████████████████████████| 54/54 [00:00<00:00, 475.19it/s]\n"
     ]
    },
    {
     "name": "stdout",
     "output_type": "stream",
     "text": [
      "Tildev2 Re-rank Done!\n"
     ]
    },
    {
     "name": "stderr",
     "output_type": "stream",
     "text": [
      "100%|████████████████████████████████████████| 54/54 [4:03:56<00:00, 271.05s/it]\n",
      "100%|██████████████████████████████████████████| 54/54 [00:00<00:00, 582.63it/s]\n",
      "100%|███████████████████████████████████| 5400/5400 [00:00<00:00, 540980.76it/s]\n"
     ]
    }
   ],
   "source": [
    "search(weights_file,\"pj2_k1000_tildev_m100_bert_test.run\",k=1000,m=100)"
   ]
  },
  {
   "cell_type": "markdown",
   "id": "dd2e32dd",
   "metadata": {},
   "source": [
    "### BM25 + TILDev2"
   ]
  },
  {
   "cell_type": "code",
   "execution_count": 177,
   "id": "5c0a2987",
   "metadata": {},
   "outputs": [
    {
     "name": "stderr",
     "output_type": "stream",
     "text": [
      "100%|███████████████████████████████████████████| 54/54 [00:49<00:00,  1.09it/s]\n",
      "100%|██████████████████████████████████████████| 54/54 [00:00<00:00, 262.89it/s]\n",
      "100%|█████████████████████████████████| 27000/27000 [00:00<00:00, 696304.13it/s]\n"
     ]
    }
   ],
   "source": [
    "def search(weights_file,run_file: str, k: int=10):\n",
    "    # Get bm25 ranking and Score with Tildev2\n",
    "    bm25_rank_lst = []\n",
    "    for topic_id, query in tqdm(test_queries):\n",
    "        hits = searcher.search(query,k=k)\n",
    "        topic_lst = []\n",
    "        for i, hit in enumerate(hits):\n",
    "            record_lst = []\n",
    "            record_lst.append(topic_id)\n",
    "            record_lst.append(hit.docid)\n",
    "            record_lst.append(i+1)\n",
    "            score = tildev2_scoreing(query,hits[i].raw,weights_file,int(hit.docid))\n",
    "            record_lst.append(score)\n",
    "            topic_lst.append(record_lst)\n",
    "        bm25_rank_lst.append(topic_lst)\n",
    "    \n",
    "    # Re-rank by Tildev score\n",
    "    df_lst = []\n",
    "    for i in tqdm(bm25_rank_lst):\n",
    "        df = pd.DataFrame(i,columns=['topic_id','docid','bm25_rank','tildev_score'])\n",
    "        df.sort_values(by = ['tildev_score'],axis=0,ascending=False, inplace=True)\n",
    "        df.reset_index(drop=True,inplace=True)\n",
    "        df['tildev_rank'] = df.index\n",
    "        df_lst.append(df)\n",
    "    \n",
    "    overall_df = pd.concat(df_lst)\n",
    "    overall_df = overall_df[['topic_id','docid','tildev_rank','tildev_score']]\n",
    "    \n",
    "    # Write the Tildev re-rank list to run\n",
    "    with open(run_file, \"w\") as f:\n",
    "        for topic_id,docid,tildev_rank,tildev_score in tqdm(overall_df.values):\n",
    "            # Write the results to our file.\n",
    "            f.write(f\"{topic_id} Q0 {docid} {tildev_rank} {tildev_score} infs7410_pj2_tildev2\\n\")\n",
    "\n",
    "search(weights_file,\"pj2_k500_tildev_test.run\",k=500)"
   ]
  },
  {
   "cell_type": "markdown",
   "id": "60c4febb",
   "metadata": {},
   "source": [
    "### BM25 + ANCE"
   ]
  },
  {
   "cell_type": "code",
   "execution_count": 178,
   "id": "42a34946",
   "metadata": {},
   "outputs": [
    {
     "name": "stderr",
     "output_type": "stream",
     "text": [
      "100%|███████████████████████████████████████████| 54/54 [33:32<00:00, 37.27s/it]\n",
      "100%|██████████████████████████████████████████| 54/54 [00:00<00:00, 329.09it/s]\n",
      "100%|███████████████████████████████████| 5400/5400 [00:00<00:00, 543538.32it/s]\n"
     ]
    }
   ],
   "source": [
    "def search(run_file: str, k: int=10):\n",
    "    # Get bm25 ranking and Score with ANCE\n",
    "    bm25_rank_lst = []\n",
    "    for topic_id, query in tqdm(test_queries):\n",
    "        hits = searcher.search(query,k=k)\n",
    "        topic_lst = []\n",
    "        for i, hit in enumerate(hits):\n",
    "            record_lst = []\n",
    "            record_lst.append(topic_id)\n",
    "            record_lst.append(hit.docid)\n",
    "            record_lst.append(i+1)\n",
    "            query_embed = ance_encode(query)\n",
    "            document_embed = ance_encode(hits[i].raw)\n",
    "            score = np.dot(query_embed,document_embed)\n",
    "            record_lst.append(score)\n",
    "            topic_lst.append(record_lst)\n",
    "        bm25_rank_lst.append(topic_lst)\n",
    "    \n",
    "    # Re-rank by ANCE score\n",
    "    df_lst = []\n",
    "    for i in tqdm(bm25_rank_lst):\n",
    "        df = pd.DataFrame(i,columns=['topic_id','docid','bm25_rank','ance_score'])\n",
    "        df.sort_values(by = ['ance_score'],axis=0,ascending=False, inplace=True)\n",
    "        df.reset_index(drop=True,inplace=True)\n",
    "        df['ance_rank'] = df.index\n",
    "        df_lst.append(df)\n",
    "    \n",
    "    overall_df = pd.concat(df_lst)\n",
    "    overall_df = overall_df[['topic_id','docid','ance_rank','ance_score']]\n",
    "    \n",
    "    # Write the ANCE re-rank list to run\n",
    "    with open(run_file, \"w\") as f:\n",
    "        for topic_id,docid,ance_rank,ance_score in tqdm(overall_df.values):\n",
    "            # Write the results to our file.\n",
    "            f.write(f\"{topic_id} Q0 {docid} {ance_rank} {ance_score} infs7410_pj2_ance\\n\")\n",
    "\n",
    "search(\"pj2_k100_ance_test.run\",k=100)"
   ]
  },
  {
   "cell_type": "markdown",
   "id": "01ed5556",
   "metadata": {},
   "source": [
    "### Performance of 3 stage pipeline\n",
    "\n",
    "|                      | MAP    | nDCG   | Recall | Reciprocal Rank |\n",
    "|----------------------|--------|--------|--------|-----------------|\n",
    "| Training performance | 0.3882 | 0.7191 | 0.4735 | 0.9690          |\n",
    "| Test performance     | 0.4551 | 0.7196 | 0.659  | 0.8549          |\n",
    "\n",
    "\n",
    "From the table, we can observe that the model perform quite consistent on training and test data."
   ]
  },
  {
   "cell_type": "markdown",
   "id": "57c2eb26",
   "metadata": {},
   "source": [
    "### Performance of BM25 + TLIDEv2\n",
    "\n",
    "|                      | MAP    | nDCG   | Recall | Reciprocal Rank |\n",
    "|----------------------|--------|--------|--------|-----------------|\n",
    "| Training performance | 0.4226 | 0.6713 | 0.6275 |          0.9380 |\n",
    "| Test performance     | 0.3996 | 0.7947 | 0.6497 | 0.6857          |\n",
    "\n",
    "From the table above, we can observe that the model is better in some of the measures while worse in other measures. So, I think it is quite consistent performance on both training and test set"
   ]
  },
  {
   "cell_type": "markdown",
   "id": "0c37b24b",
   "metadata": {},
   "source": [
    "### Performance of BM25 + ANCE\n",
    "\n",
    "|                      | MAP    | nDCG   | Recall | Reciprocal Rank |\n",
    "|----------------------|--------|--------|--------|-----------------|\n",
    "| Training performance | 0.3209 | 0.6379 | 0.4369 |          0.8844 |\n",
    "| Test performance     | 0.3073 | 0.7206 | 0.5702 | 0.5231          |\n",
    "\n",
    "From the table above, we can observe that the model is better in some of the measures while worse in other measures. So, I think it is quite consistent performance on both training and test set"
   ]
  },
  {
   "cell_type": "markdown",
   "id": "f7655316",
   "metadata": {},
   "source": [
    "## Findings\n",
    "\n",
    "I have observed that recall and nDCG increase for all three models with the test set but the reciprocal rank vice versa. Mean average precision increase for the three stage model while it decrease for the other two models. \n",
    "\n",
    "Besides, from the measures of the test set, 3 stage pipeline outperform the other 2 models in 3 out of 4 measures."
   ]
  },
  {
   "cell_type": "code",
   "execution_count": null,
   "id": "c27ce6e8",
   "metadata": {},
   "outputs": [],
   "source": []
  }
 ],
 "metadata": {
  "kernelspec": {
   "display_name": "Python 3 (ipykernel)",
   "language": "python",
   "name": "python3"
  },
  "language_info": {
   "codemirror_mode": {
    "name": "ipython",
    "version": 3
   },
   "file_extension": ".py",
   "mimetype": "text/x-python",
   "name": "python",
   "nbconvert_exporter": "python",
   "pygments_lexer": "ipython3",
   "version": "3.7.13"
  }
 },
 "nbformat": 4,
 "nbformat_minor": 5
}
